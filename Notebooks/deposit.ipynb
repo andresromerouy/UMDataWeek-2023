{
  "cells": [
    {
      "cell_type": "markdown",
      "metadata": {
        "id": "view-in-github",
        "colab_type": "text"
      },
      "source": [
        "<a href=\"https://colab.research.google.com/github/cinnData/UMDataWeek-2023/blob/main/Notebooks/deposit.ipynb\" target=\"_parent\"><img src=\"https://colab.research.google.com/assets/colab-badge.svg\" alt=\"Open In Colab\"/></a>"
      ]
    },
    {
      "cell_type": "markdown",
      "id": "2f90d59c",
      "metadata": {
        "id": "2f90d59c"
      },
      "source": [
        "# [UM-01] Term deposits"
      ]
    },
    {
      "cell_type": "markdown",
      "source": [
        "### Importing the data"
      ],
      "metadata": {
        "id": "r7Pqj6zOciR9"
      },
      "id": "r7Pqj6zOciR9"
    },
    {
      "cell_type": "code",
      "execution_count": null,
      "id": "808be3c8",
      "metadata": {
        "id": "808be3c8"
      },
      "outputs": [],
      "source": [
        "import numpy as np, pandas as pd"
      ]
    },
    {
      "cell_type": "code",
      "execution_count": null,
      "id": "e88832e1",
      "metadata": {
        "id": "e88832e1"
      },
      "outputs": [],
      "source": [
        "path = 'https://raw.githubusercontent.com/cinnData/UMDataWeek-2023/main/Data/'\n",
        "df = pd.read_csv(path + 'deposit.csv', index_col=0)"
      ]
    },
    {
      "cell_type": "markdown",
      "source": [
        "### Exploring the data"
      ],
      "metadata": {
        "id": "JTwXiPu9dprB"
      },
      "id": "JTwXiPu9dprB"
    },
    {
      "cell_type": "code",
      "source": [
        "df.info()"
      ],
      "metadata": {
        "id": "HXw20A-PdD-C"
      },
      "id": "HXw20A-PdD-C",
      "execution_count": null,
      "outputs": []
    },
    {
      "cell_type": "code",
      "source": [
        "df.head()"
      ],
      "metadata": {
        "id": "3z4MjJCpd-n3"
      },
      "id": "3z4MjJCpd-n3",
      "execution_count": null,
      "outputs": []
    },
    {
      "cell_type": "code",
      "source": [
        "df['deposit'].mean().round(3)"
      ],
      "metadata": {
        "id": "hC3t5u7qfaQ6"
      },
      "id": "hC3t5u7qfaQ6",
      "execution_count": null,
      "outputs": []
    },
    {
      "cell_type": "markdown",
      "source": [
        "### Target vector and feature matrix"
      ],
      "metadata": {
        "id": "WRedQ-gwePaR"
      },
      "id": "WRedQ-gwePaR"
    },
    {
      "cell_type": "code",
      "source": [
        "y = df['deposit']\n",
        "y.shape"
      ],
      "metadata": {
        "id": "pE7Pp8FbfrEK"
      },
      "id": "pE7Pp8FbfrEK",
      "execution_count": null,
      "outputs": []
    },
    {
      "cell_type": "code",
      "source": [
        "X = df.iloc[:, :-1]\n",
        "X.shape"
      ],
      "metadata": {
        "id": "WOrsUEB5hoSl"
      },
      "id": "WOrsUEB5hoSl",
      "execution_count": null,
      "outputs": []
    },
    {
      "cell_type": "markdown",
      "source": [
        "### Q1. Logistic regression model"
      ],
      "metadata": {
        "id": "J1M9PDmNhthl"
      },
      "id": "J1M9PDmNhthl"
    },
    {
      "cell_type": "code",
      "source": [
        "from sklearn.linear_model import LogisticRegression\n",
        "clf = LogisticRegression(max_iter=1500)"
      ],
      "metadata": {
        "id": "aLIRHM93jOC7"
      },
      "id": "aLIRHM93jOC7",
      "execution_count": null,
      "outputs": []
    },
    {
      "cell_type": "code",
      "source": [
        "clf.fit(X, y);"
      ],
      "metadata": {
        "id": "u0WsSPJtjUiG"
      },
      "id": "u0WsSPJtjUiG",
      "execution_count": null,
      "outputs": []
    },
    {
      "cell_type": "code",
      "source": [
        "y_pred = clf.predict(X)"
      ],
      "metadata": {
        "id": "5DKTlOzJnAc_"
      },
      "id": "5DKTlOzJnAc_",
      "execution_count": null,
      "outputs": []
    },
    {
      "cell_type": "code",
      "source": [
        "clf.score(X, y).round(3)"
      ],
      "metadata": {
        "id": "DVC4xaiMnUYn"
      },
      "id": "DVC4xaiMnUYn",
      "execution_count": null,
      "outputs": []
    },
    {
      "cell_type": "code",
      "source": [
        "conf = pd.crosstab(y, y_pred)\n",
        "conf"
      ],
      "metadata": {
        "id": "I_6JBmSGpFog"
      },
      "id": "I_6JBmSGpFog",
      "execution_count": null,
      "outputs": []
    },
    {
      "cell_type": "code",
      "source": [
        "acc = (y == y_pred).mean().round(3)\n",
        "acc"
      ],
      "metadata": {
        "id": "NSafHxH7YUYY"
      },
      "id": "NSafHxH7YUYY",
      "execution_count": null,
      "outputs": []
    },
    {
      "cell_type": "code",
      "source": [
        "prec = y[y_pred == 1].mean().round(3)\n",
        "prec"
      ],
      "metadata": {
        "id": "z55HhyqfL0Kw"
      },
      "id": "z55HhyqfL0Kw",
      "execution_count": null,
      "outputs": []
    },
    {
      "cell_type": "code",
      "source": [
        "rec = y_pred[y == 1].mean().round(3)\n",
        "rec"
      ],
      "metadata": {
        "id": "8n3K1truVWDz"
      },
      "id": "8n3K1truVWDz",
      "execution_count": null,
      "outputs": []
    },
    {
      "cell_type": "markdown",
      "source": [
        "### Q2a. Predictive scores"
      ],
      "metadata": {
        "id": "7hncTgTijXIG"
      },
      "id": "7hncTgTijXIG"
    },
    {
      "cell_type": "code",
      "source": [
        "df['score'] = clf.predict_proba(X)[:, 1]"
      ],
      "metadata": {
        "id": "CveKEIOflDR2"
      },
      "id": "CveKEIOflDR2",
      "execution_count": null,
      "outputs": []
    },
    {
      "cell_type": "code",
      "source": [
        "df[['deposit', 'score']]"
      ],
      "metadata": {
        "id": "hfy6DEvLrEqb"
      },
      "id": "hfy6DEvLrEqb",
      "execution_count": null,
      "outputs": []
    },
    {
      "cell_type": "code",
      "source": [
        "df['score'].mean().round(3)"
      ],
      "metadata": {
        "id": "hHueM4Ehqstx"
      },
      "id": "hHueM4Ehqstx",
      "execution_count": null,
      "outputs": []
    },
    {
      "cell_type": "markdown",
      "source": [
        "### Q2b. Distribution of the scores"
      ],
      "metadata": {
        "id": "g9klUb57W456"
      },
      "id": "g9klUb57W456"
    },
    {
      "cell_type": "code",
      "source": [
        "from matplotlib import pyplot as plt\n",
        "# Set the size of the figure\n",
        "plt.figure(figsize = (12,5))\n",
        "# First subplot\n",
        "plt.subplot(1, 2, 1)\n",
        "plt.hist(df['score'][y == 1], color='gray', edgecolor='white')\n",
        "plt.title('Figure a. Scores (subscribers)')\n",
        "plt.xlabel('Subscription score')\n",
        "# Second subplot\n",
        "plt.subplot(1, 2, 2)\n",
        "plt.hist(df['score'][y == 0], color='gray', edgecolor='white')\n",
        "plt.title('Figure b. Scores (non-subscribers)')\n",
        "plt.xlabel('Subscription score');"
      ],
      "metadata": {
        "id": "M2TA1hI_t_gr"
      },
      "id": "M2TA1hI_t_gr",
      "execution_count": null,
      "outputs": []
    },
    {
      "cell_type": "markdown",
      "source": [
        "### Q3. Set a threshold"
      ],
      "metadata": {
        "id": "en6pWQ79u8Lb"
      },
      "id": "en6pWQ79u8Lb"
    },
    {
      "cell_type": "code",
      "source": [
        "y_pred = (df['score'] > 0.11)\n",
        "conf = pd.crosstab(y, y_pred)\n",
        "conf"
      ],
      "metadata": {
        "id": "OWU0EJFXwuGs"
      },
      "id": "OWU0EJFXwuGs",
      "execution_count": null,
      "outputs": []
    },
    {
      "cell_type": "code",
      "source": [
        "acc = (y == y_pred).mean().round(3)\n",
        "prec = y[y_pred == 1].mean().round(3)\n",
        "rec = y_pred[y == 1].mean().round(3)\n",
        "acc, prec, rec"
      ],
      "metadata": {
        "id": "hk_6ycxzxI0d"
      },
      "id": "hk_6ycxzxI0d",
      "execution_count": null,
      "outputs": []
    },
    {
      "cell_type": "markdown",
      "source": [
        "### Q4. Target of 4,000 subscriptions"
      ],
      "metadata": {
        "id": "BRJcE2j_LpBc"
      },
      "id": "BRJcE2j_LpBc"
    },
    {
      "cell_type": "code",
      "source": [
        "df.sort_values('score', ascending=False, inplace=True)\n",
        "df[['deposit', 'score']]"
      ],
      "metadata": {
        "id": "0E55ZpPxN7q5"
      },
      "id": "0E55ZpPxN7q5",
      "execution_count": null,
      "outputs": []
    },
    {
      "cell_type": "code",
      "source": [
        "df['cum_subscription'] = np.cumsum(df['deposit'])\n",
        "df[['deposit', 'score', 'cum_subscription']]"
      ],
      "metadata": {
        "id": "d0CP7Ez_TDgM"
      },
      "id": "d0CP7Ez_TDgM",
      "execution_count": null,
      "outputs": []
    },
    {
      "cell_type": "code",
      "source": [
        "len(df[df['cum_subscription'] < 4000]) + 1\n"
      ],
      "metadata": {
        "id": "fB3LFf1tTVzQ"
      },
      "id": "fB3LFf1tTVzQ",
      "execution_count": null,
      "outputs": []
    },
    {
      "cell_type": "markdown",
      "source": [
        "### Q5. Budget 10,000 calls"
      ],
      "metadata": {
        "id": "MCQV1bQmWHLo"
      },
      "id": "MCQV1bQmWHLo"
    },
    {
      "cell_type": "code",
      "source": [
        "df.index[:10000]"
      ],
      "metadata": {
        "id": "dbRe_FVrW8Zz"
      },
      "id": "dbRe_FVrW8Zz",
      "execution_count": null,
      "outputs": []
    },
    {
      "cell_type": "code",
      "source": [
        "df.iloc[10000, -1]"
      ],
      "metadata": {
        "id": "PAYomaq1W4v-"
      },
      "id": "PAYomaq1W4v-",
      "execution_count": null,
      "outputs": []
    },
    {
      "cell_type": "markdown",
      "source": [
        "### Q6. Validation assuming budget of 20%"
      ],
      "metadata": {
        "id": "Mr1Z9cYIyXQt"
      },
      "id": "Mr1Z9cYIyXQt"
    },
    {
      "cell_type": "code",
      "source": [
        "df = df.drop(columns=['score', 'cum_subscription'])"
      ],
      "metadata": {
        "id": "VffKqSNSuNtP"
      },
      "id": "VffKqSNSuNtP",
      "execution_count": null,
      "outputs": []
    },
    {
      "cell_type": "code",
      "source": [
        "from sklearn.model_selection import train_test_split\n",
        "X_train, X_test, y_train, y_test = train_test_split(X, y, test_size=0.5)"
      ],
      "metadata": {
        "id": "oRkPqV9DywJJ"
      },
      "id": "oRkPqV9DywJJ",
      "execution_count": null,
      "outputs": []
    },
    {
      "cell_type": "code",
      "source": [
        "clf.fit(X_train, y_train)\n",
        "y_score = clf.predict_proba(X_test)[:, 1]"
      ],
      "metadata": {
        "id": "838li2OE1_wv"
      },
      "id": "838li2OE1_wv",
      "execution_count": null,
      "outputs": []
    },
    {
      "cell_type": "code",
      "source": [
        "df_test = pd.DataFrame({'deposit': y_test, 'score': y_score}, index=X_test.index)\n",
        "df_test.sort_values('score', inplace=True, ascending=False)\n",
        "df_test"
      ],
      "metadata": {
        "id": "KoHy6bxF2DRs"
      },
      "id": "KoHy6bxF2DRs",
      "execution_count": null,
      "outputs": []
    },
    {
      "cell_type": "code",
      "source": [
        "N = int(len(y_test)/5)\n",
        "N"
      ],
      "metadata": {
        "id": "qtzKjc1PydwV"
      },
      "id": "qtzKjc1PydwV",
      "execution_count": null,
      "outputs": []
    },
    {
      "cell_type": "code",
      "source": [
        "df_test['deposit'].head(N).sum()"
      ],
      "metadata": {
        "id": "ZmPJHHXK2HTQ"
      },
      "id": "ZmPJHHXK2HTQ",
      "execution_count": null,
      "outputs": []
    }
  ],
  "metadata": {
    "kernelspec": {
      "display_name": "Python 3 (ipykernel)",
      "language": "python",
      "name": "python3"
    },
    "language_info": {
      "codemirror_mode": {
        "name": "ipython",
        "version": 3
      },
      "file_extension": ".py",
      "mimetype": "text/x-python",
      "name": "python",
      "nbconvert_exporter": "python",
      "pygments_lexer": "ipython3",
      "version": "3.9.12"
    },
    "colab": {
      "provenance": [],
      "include_colab_link": true
    }
  },
  "nbformat": 4,
  "nbformat_minor": 5
}