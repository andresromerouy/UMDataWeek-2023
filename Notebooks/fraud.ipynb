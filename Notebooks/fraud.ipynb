{
  "nbformat": 4,
  "nbformat_minor": 0,
  "metadata": {
    "colab": {
      "provenance": [],
      "authorship_tag": "ABX9TyMqj0F/qJOC9U8alxbgesOR",
      "include_colab_link": true
    },
    "kernelspec": {
      "name": "python3",
      "display_name": "Python 3"
    },
    "language_info": {
      "name": "python"
    }
  },
  "cells": [
    {
      "cell_type": "markdown",
      "metadata": {
        "id": "view-in-github",
        "colab_type": "text"
      },
      "source": [
        "<a href=\"https://colab.research.google.com/github/cinnData/UMDataWeek-2023/blob/main/Notebooks/fraud.ipynb\" target=\"_parent\"><img src=\"https://colab.research.google.com/assets/colab-badge.svg\" alt=\"Open In Colab\"/></a>"
      ]
    },
    {
      "cell_type": "markdown",
      "source": [
        "# [UM-03] Fraud in credit card transactions"
      ],
      "metadata": {
        "id": "1vJrgjLJxBke"
      }
    },
    {
      "cell_type": "markdown",
      "source": [
        "### Stop warnings"
      ],
      "metadata": {
        "id": "O7M-LSUQ5IU-"
      }
    },
    {
      "cell_type": "code",
      "source": [
        "import warnings\n",
        "warnings.filterwarnings(\"ignore\")"
      ],
      "metadata": {
        "id": "ihmCBScE5M7Y"
      },
      "execution_count": null,
      "outputs": []
    },
    {
      "cell_type": "markdown",
      "source": [
        "### Importing data"
      ],
      "metadata": {
        "id": "gip3IlSAxNJo"
      }
    },
    {
      "cell_type": "code",
      "source": [
        "import pandas as pd"
      ],
      "metadata": {
        "id": "2fXNnWsWxZ4b"
      },
      "execution_count": null,
      "outputs": []
    },
    {
      "cell_type": "code",
      "source": [
        "path = 'https://raw.githubusercontent.com/cinnData/UMDataWeek-2023/main/Data/'\n",
        "df = pd.read_csv(path + 'fraud_may.csv.zip', index_col=0)\n",
        "for m in ['jun', 'jul', 'aug', 'sep']:\n",
        "  df = pd.concat([df, pd.read_csv(path + 'fraud_' + m + '.csv.zip', index_col=0)])"
      ],
      "metadata": {
        "id": "AB9MuUlexamv"
      },
      "execution_count": null,
      "outputs": []
    },
    {
      "cell_type": "code",
      "source": [
        "df.info()"
      ],
      "metadata": {
        "id": "rMQA8Ni-xdaV"
      },
      "execution_count": null,
      "outputs": []
    },
    {
      "cell_type": "code",
      "source": [
        "df['date'] = df['TX_DATETIME'].str[:10]"
      ],
      "metadata": {
        "id": "b7K7B6ohyDnF"
      },
      "execution_count": null,
      "outputs": []
    },
    {
      "cell_type": "markdown",
      "source": [
        "### Fraud rate"
      ],
      "metadata": {
        "id": "lMFR1zlhyK9T"
      }
    },
    {
      "cell_type": "code",
      "source": [
        "df['TX_FRAUD'].sum()"
      ],
      "metadata": {
        "id": "z2T9UsPRziMO"
      },
      "execution_count": null,
      "outputs": []
    },
    {
      "cell_type": "code",
      "source": [
        "df['TX_FRAUD'].mean().round(4)"
      ],
      "metadata": {
        "id": "BIYdAdtIzjvL"
      },
      "execution_count": null,
      "outputs": []
    },
    {
      "cell_type": "markdown",
      "source": [
        "### Q1a. Target vector and feature matrix"
      ],
      "metadata": {
        "id": "p4iClUNozlj0"
      }
    },
    {
      "cell_type": "code",
      "source": [
        "y = df['TX_FRAUD']"
      ],
      "metadata": {
        "id": "-XhfJEhP16Gw"
      },
      "execution_count": null,
      "outputs": []
    },
    {
      "cell_type": "code",
      "source": [
        "X = df[['TX_AMOUNT','TX_DURING_WEEKEND', 'TX_DURING_NIGHT', 'CUSTOMER_ID_NB_TX_1DAY_WINDOW',\n",
        "  'CUSTOMER_ID_AVG_AMOUNT_1DAY_WINDOW', 'CUSTOMER_ID_NB_TX_7DAY_WINDOW',\n",
        "  'CUSTOMER_ID_AVG_AMOUNT_7DAY_WINDOW', 'CUSTOMER_ID_NB_TX_30DAY_WINDOW',\n",
        "  'CUSTOMER_ID_AVG_AMOUNT_30DAY_WINDOW', 'TERMINAL_ID_NB_TX_1DAY_WINDOW',\n",
        "  'TERMINAL_ID_RISK_1DAY_WINDOW', 'TERMINAL_ID_NB_TX_7DAY_WINDOW',\n",
        "  'TERMINAL_ID_RISK_7DAY_WINDOW', 'TERMINAL_ID_NB_TX_30DAY_WINDOW',\n",
        "  'TERMINAL_ID_RISK_30DAY_WINDOW']]"
      ],
      "metadata": {
        "id": "wGrsSgD22AYC"
      },
      "execution_count": null,
      "outputs": []
    },
    {
      "cell_type": "markdown",
      "source": [
        "### Training data"
      ],
      "metadata": {
        "id": "EPk6nFxx3hD3"
      }
    },
    {
      "cell_type": "code",
      "source": [
        "X_train = X[df['date'].between('2018-04-30', '2018-05-06')]"
      ],
      "metadata": {
        "id": "jSF2VdrC3l1n"
      },
      "execution_count": null,
      "outputs": []
    },
    {
      "cell_type": "code",
      "source": [
        "X_train.shape"
      ],
      "metadata": {
        "id": "Mj6OeKNc2CQX"
      },
      "execution_count": null,
      "outputs": []
    },
    {
      "cell_type": "code",
      "source": [
        "y_train = y[df['date'].between('2018-04-30', '2018-05-06')]"
      ],
      "metadata": {
        "id": "SytrfhxO3axy"
      },
      "execution_count": null,
      "outputs": []
    },
    {
      "cell_type": "markdown",
      "source": [
        "### Q2a. Logistic regression model"
      ],
      "metadata": {
        "id": "bS2irdcx3vJK"
      }
    },
    {
      "cell_type": "code",
      "source": [
        "from sklearn.linear_model import LogisticRegression\n",
        "clf = LogisticRegression(max_iter=1500)"
      ],
      "metadata": {
        "id": "yxdnO8RQ37Sd"
      },
      "execution_count": null,
      "outputs": []
    },
    {
      "cell_type": "code",
      "source": [
        "clf.fit(X_train, y_train);"
      ],
      "metadata": {
        "id": "k6_VD6v_4gdJ"
      },
      "execution_count": null,
      "outputs": []
    },
    {
      "cell_type": "markdown",
      "source": [
        "### Q2b. Scoring"
      ],
      "metadata": {
        "id": "sVM40lti4iQN"
      }
    },
    {
      "cell_type": "code",
      "source": [
        "df_test = df[df['date'].between('2018-05-14', '2018-05-20')]\n",
        "df_test.shape"
      ],
      "metadata": {
        "id": "VgqaEjij400x"
      },
      "execution_count": null,
      "outputs": []
    },
    {
      "cell_type": "code",
      "source": [
        "X_test = df_test[['TX_AMOUNT','TX_DURING_WEEKEND', 'TX_DURING_NIGHT', 'CUSTOMER_ID_NB_TX_1DAY_WINDOW',\n",
        "  'CUSTOMER_ID_AVG_AMOUNT_1DAY_WINDOW', 'CUSTOMER_ID_NB_TX_7DAY_WINDOW',\n",
        "  'CUSTOMER_ID_AVG_AMOUNT_7DAY_WINDOW', 'CUSTOMER_ID_NB_TX_30DAY_WINDOW',\n",
        "  'CUSTOMER_ID_AVG_AMOUNT_30DAY_WINDOW', 'TERMINAL_ID_NB_TX_1DAY_WINDOW',\n",
        "  'TERMINAL_ID_RISK_1DAY_WINDOW', 'TERMINAL_ID_NB_TX_7DAY_WINDOW',\n",
        "  'TERMINAL_ID_RISK_7DAY_WINDOW', 'TERMINAL_ID_NB_TX_30DAY_WINDOW',\n",
        "  'TERMINAL_ID_RISK_30DAY_WINDOW']]"
      ],
      "metadata": {
        "id": "72jL4-Lk44Mm"
      },
      "execution_count": null,
      "outputs": []
    },
    {
      "cell_type": "code",
      "source": [
        "df_test['score'] = clf.predict_proba(X_test)[:, 1]"
      ],
      "metadata": {
        "id": "PR57qx9o4640"
      },
      "execution_count": null,
      "outputs": []
    },
    {
      "cell_type": "markdown",
      "source": [
        "### Q2c. Precision top-100"
      ],
      "metadata": {
        "id": "I3T5Exi448f2"
      }
    },
    {
      "cell_type": "code",
      "source": [
        "def prec100(d):\n",
        "  data = df_test[df_test['date'] == d]\n",
        "  data = data.sort_values('score', ascending=False).head(100)\n",
        "  prec = (data['TX_FRAUD'] == 1).sum()\n",
        "  return prec"
      ],
      "metadata": {
        "id": "KBcVPFyp5f8B"
      },
      "execution_count": null,
      "outputs": []
    },
    {
      "cell_type": "code",
      "source": [
        "[prec100(d) for d in df_test['date'].unique()]"
      ],
      "metadata": {
        "id": "DjeqZg_l7vrD"
      },
      "execution_count": null,
      "outputs": []
    },
    {
      "cell_type": "markdown",
      "source": [
        "### Q3. Card precision top-100"
      ],
      "metadata": {
        "id": "DaHtd-ZO7zic"
      }
    },
    {
      "cell_type": "code",
      "source": [
        "def cprec100(d):\n",
        "  data = df_test[df_test['date'] == d]\n",
        "  data = data.groupby('CUSTOMER_ID')[['TX_FRAUD', 'score']].max()\n",
        "  data = data.sort_values('score', ascending=False).head(100)\n",
        "  cprec = (data['TX_FRAUD'] == 1).sum()\n",
        "  return cprec"
      ],
      "metadata": {
        "id": "yTolsZw88CLH"
      },
      "execution_count": null,
      "outputs": []
    },
    {
      "cell_type": "code",
      "source": [
        "[cprec100(d) for d in df_test['date'].unique()]"
      ],
      "metadata": {
        "id": "_v5RmFxW8EuK"
      },
      "execution_count": null,
      "outputs": []
    },
    {
      "cell_type": "markdown",
      "source": [
        "### Q4a. Total fraud and detected fraud"
      ],
      "metadata": {
        "id": "LWRVYwCv8GPf"
      }
    },
    {
      "cell_type": "code",
      "source": [
        "def total_fraud(d):\n",
        "  return df_test.loc[df_test['date'] == d, 'TX_FRAUD'].sum()"
      ],
      "metadata": {
        "id": "hj0AejGC8SAG"
      },
      "execution_count": null,
      "outputs": []
    },
    {
      "cell_type": "code",
      "source": [
        "pd.DataFrame({'total_fraud': [total_fraud(d) for d in df_test['date'].unique()],\n",
        "  'capt_fraud': [prec100(d) for d in df_test['date'].unique()]})"
      ],
      "metadata": {
        "id": "nOSLSvP48X5T"
      },
      "execution_count": null,
      "outputs": []
    },
    {
      "cell_type": "markdown",
      "source": [
        "### Q4b. Total and detected fraudulent cards"
      ],
      "metadata": {
        "id": "4Si5pWAO8aCL"
      }
    },
    {
      "cell_type": "code",
      "source": [
        "def total_card_fraud(d):\n",
        "  data = df_test[df_test['date'] == d].groupby('CUSTOMER_ID')[['TX_FRAUD', 'score']].max()\n",
        "  return data['TX_FRAUD'].sum()"
      ],
      "metadata": {
        "id": "YVWF73qP81it"
      },
      "execution_count": null,
      "outputs": []
    },
    {
      "cell_type": "code",
      "source": [
        "pd.DataFrame({'total_card_fraud': [total_card_fraud(d) for d in df_test['date'].unique()],\n",
        "  'capt_card_fraud': [cprec100(d) for d in df_test['date'].unique()]})"
      ],
      "metadata": {
        "id": "-f59wlnu9Hez"
      },
      "execution_count": null,
      "outputs": []
    }
  ]
}