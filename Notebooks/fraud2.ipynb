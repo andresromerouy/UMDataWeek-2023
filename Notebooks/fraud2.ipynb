{
  "nbformat": 4,
  "nbformat_minor": 0,
  "metadata": {
    "colab": {
      "provenance": [],
      "authorship_tag": "ABX9TyPbVoL4Ek3A9EjLGlHS3gQu",
      "include_colab_link": true
    },
    "kernelspec": {
      "name": "python3",
      "display_name": "Python 3"
    },
    "language_info": {
      "name": "python"
    }
  },
  "cells": [
    {
      "cell_type": "markdown",
      "metadata": {
        "id": "view-in-github",
        "colab_type": "text"
      },
      "source": [
        "<a href=\"https://colab.research.google.com/github/cinnData/UMDataWeek-2023/blob/main/Notebooks/fraud2.ipynb\" target=\"_parent\"><img src=\"https://colab.research.google.com/assets/colab-badge.svg\" alt=\"Open In Colab\"/></a>"
      ]
    },
    {
      "cell_type": "markdown",
      "source": [
        "# [UM-03] Fraud in credit card transactions (cont)"
      ],
      "metadata": {
        "id": "1vJrgjLJxBke"
      }
    },
    {
      "cell_type": "markdown",
      "source": [
        "### Stop warnings"
      ],
      "metadata": {
        "id": "O7M-LSUQ5IU-"
      }
    },
    {
      "cell_type": "code",
      "source": [
        "import warnings\n",
        "warnings.filterwarnings(\"ignore\")"
      ],
      "metadata": {
        "id": "ihmCBScE5M7Y"
      },
      "execution_count": null,
      "outputs": []
    },
    {
      "cell_type": "markdown",
      "source": [
        "### Importing data"
      ],
      "metadata": {
        "id": "gip3IlSAxNJo"
      }
    },
    {
      "cell_type": "code",
      "source": [
        "import pandas as pd"
      ],
      "metadata": {
        "id": "2fXNnWsWxZ4b"
      },
      "execution_count": null,
      "outputs": []
    },
    {
      "cell_type": "code",
      "source": [
        "path = 'https://raw.githubusercontent.com/cinnData/UMDataWeek-2023/main/Data/'\n",
        "df = pd.read_csv(path + 'fraud_may.csv.zip', index_col=0)\n",
        "for m in ['jun', 'jul', 'aug', 'sep']:\n",
        "  df = pd.concat([df, pd.read_csv(path + 'fraud_' + m + '.csv.zip', index_col=0)])"
      ],
      "metadata": {
        "id": "AB9MuUlexamv"
      },
      "execution_count": null,
      "outputs": []
    },
    {
      "cell_type": "code",
      "source": [
        "df['date'] = df['TX_DATETIME'].str[:10]"
      ],
      "metadata": {
        "id": "b7K7B6ohyDnF"
      },
      "execution_count": null,
      "outputs": []
    },
    {
      "cell_type": "code",
      "source": [
        "days = df['date'].unique()"
      ],
      "metadata": {
        "id": "02vgIZkb-7k7"
      },
      "execution_count": null,
      "outputs": []
    },
    {
      "cell_type": "markdown",
      "source": [
        "### Model specification"
      ],
      "metadata": {
        "id": "p4iClUNozlj0"
      }
    },
    {
      "cell_type": "code",
      "source": [
        "from sklearn.linear_model import LogisticRegression\n",
        "clf = LogisticRegression(max_iter=1500)"
      ],
      "metadata": {
        "id": "4jm-NLCt_Ng2"
      },
      "execution_count": null,
      "outputs": []
    },
    {
      "cell_type": "markdown",
      "source": [
        "### Target vector and feature matrix"
      ],
      "metadata": {
        "id": "DaDPJY5Q_Ro7"
      }
    },
    {
      "cell_type": "code",
      "source": [
        "y = df['TX_FRAUD']"
      ],
      "metadata": {
        "id": "-XhfJEhP16Gw"
      },
      "execution_count": null,
      "outputs": []
    },
    {
      "cell_type": "code",
      "source": [
        "X = df[['TX_AMOUNT','TX_DURING_WEEKEND', 'TX_DURING_NIGHT', 'CUSTOMER_ID_NB_TX_1DAY_WINDOW',\n",
        "  'CUSTOMER_ID_AVG_AMOUNT_1DAY_WINDOW', 'CUSTOMER_ID_NB_TX_7DAY_WINDOW',\n",
        "  'CUSTOMER_ID_AVG_AMOUNT_7DAY_WINDOW', 'CUSTOMER_ID_NB_TX_30DAY_WINDOW',\n",
        "  'CUSTOMER_ID_AVG_AMOUNT_30DAY_WINDOW', 'TERMINAL_ID_NB_TX_1DAY_WINDOW',\n",
        "  'TERMINAL_ID_RISK_1DAY_WINDOW', 'TERMINAL_ID_NB_TX_7DAY_WINDOW',\n",
        "  'TERMINAL_ID_RISK_7DAY_WINDOW', 'TERMINAL_ID_NB_TX_30DAY_WINDOW',\n",
        "  'TERMINAL_ID_RISK_30DAY_WINDOW']]"
      ],
      "metadata": {
        "id": "wGrsSgD22AYC"
      },
      "execution_count": null,
      "outputs": []
    },
    {
      "cell_type": "markdown",
      "source": [
        "### Q5a. Testing function"
      ],
      "metadata": {
        "id": "EPk6nFxx3hD3"
      }
    },
    {
      "cell_type": "code",
      "source": [
        "def mytest(w):\n",
        "\tt = 7*(w - 1)\n",
        "\tX_train = X[df['date'].between(days[t], days[t+6])]\n",
        "\ty_train = y[df['date'].between(days[t], days[t+6])]\n",
        "\tclf.fit(X_train, y_train)\n",
        "\tdf_test = df[df['date'].between(days[t+14], days[t+20])]\n",
        "\tX_test = df_test[['TX_AMOUNT','TX_DURING_WEEKEND', 'TX_DURING_NIGHT', 'CUSTOMER_ID_NB_TX_1DAY_WINDOW',\n",
        "\t\t'CUSTOMER_ID_AVG_AMOUNT_1DAY_WINDOW', 'CUSTOMER_ID_NB_TX_7DAY_WINDOW',\n",
        "\t\t'CUSTOMER_ID_AVG_AMOUNT_7DAY_WINDOW', 'CUSTOMER_ID_NB_TX_30DAY_WINDOW',\n",
        "\t\t'CUSTOMER_ID_AVG_AMOUNT_30DAY_WINDOW', 'TERMINAL_ID_NB_TX_1DAY_WINDOW',\n",
        "\t\t'TERMINAL_ID_RISK_1DAY_WINDOW', 'TERMINAL_ID_NB_TX_7DAY_WINDOW',\n",
        "\t\t'TERMINAL_ID_RISK_7DAY_WINDOW', 'TERMINAL_ID_NB_TX_30DAY_WINDOW',\n",
        "\t\t'TERMINAL_ID_RISK_30DAY_WINDOW']]\n",
        "\tdf_test['score'] = clf.predict_proba(X_test)[:, 1]\n",
        "\tdef prec100(d):\n",
        "\t\tdata = df_test[df_test['date'] == d]\n",
        "\t\tdata = data.sort_values('score', ascending=False).head(100)\n",
        "\t\tprec = (data['TX_FRAUD'] == 1).sum()\n",
        "\t\treturn prec\n",
        "\tdef total_fraud(d):\n",
        "\t\treturn df_test.loc[df_test['date'] == d, 'TX_FRAUD'].sum()\n",
        "\treturn pd.DataFrame({'total_fraud': [total_fraud(d) for d in df_test['date'].unique()],\n",
        "\t\t'capt_fraud': [prec100(d) for d in df_test['date'].unique()]})"
      ],
      "metadata": {
        "id": "jSF2VdrC3l1n"
      },
      "execution_count": null,
      "outputs": []
    },
    {
      "cell_type": "markdown",
      "source": [
        "### Q5b. Packing"
      ],
      "metadata": {
        "id": "HI__wmMd_oBC"
      }
    },
    {
      "cell_type": "code",
      "source": [
        "mytable = mytest(1)"
      ],
      "metadata": {
        "id": "Mj6OeKNc2CQX"
      },
      "execution_count": null,
      "outputs": []
    },
    {
      "cell_type": "code",
      "source": [
        "for w in range(2, 21):\n",
        "\tmytable = pd.concat([mytable, mytest(w)])"
      ],
      "metadata": {
        "id": "SytrfhxO3axy"
      },
      "execution_count": null,
      "outputs": []
    },
    {
      "cell_type": "code",
      "source": [
        "mytable.index = range(140)"
      ],
      "metadata": {
        "id": "6BVVcRvKAFbu"
      },
      "execution_count": null,
      "outputs": []
    },
    {
      "cell_type": "markdown",
      "source": [
        "### Q5c. Plotting"
      ],
      "metadata": {
        "id": "bS2irdcx3vJK"
      }
    },
    {
      "cell_type": "code",
      "source": [
        "mytable.plot(figsize=(10,5));"
      ],
      "metadata": {
        "id": "yxdnO8RQ37Sd"
      },
      "execution_count": null,
      "outputs": []
    }
  ]
}