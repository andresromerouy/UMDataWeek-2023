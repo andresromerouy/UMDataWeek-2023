{
  "cells": [
    {
      "cell_type": "markdown",
      "metadata": {
        "id": "view-in-github",
        "colab_type": "text"
      },
      "source": [
        "<a href=\"https://colab.research.google.com/github/cinnData/UMDataWeek-2023/blob/main/Notebooks/deposit2.ipynb\" target=\"_parent\"><img src=\"https://colab.research.google.com/assets/colab-badge.svg\" alt=\"Open In Colab\"/></a>"
      ]
    },
    {
      "cell_type": "markdown",
      "id": "2f90d59c",
      "metadata": {
        "id": "2f90d59c"
      },
      "source": [
        "# [UM-02] Term deposits, 2nd round"
      ]
    },
    {
      "cell_type": "markdown",
      "source": [
        "### Importing the data"
      ],
      "metadata": {
        "id": "r7Pqj6zOciR9"
      },
      "id": "r7Pqj6zOciR9"
    },
    {
      "cell_type": "code",
      "execution_count": null,
      "id": "808be3c8",
      "metadata": {
        "id": "808be3c8"
      },
      "outputs": [],
      "source": [
        "import numpy as np, pandas as pd"
      ]
    },
    {
      "cell_type": "code",
      "execution_count": null,
      "id": "e88832e1",
      "metadata": {
        "id": "e88832e1"
      },
      "outputs": [],
      "source": [
        "path = 'https://raw.githubusercontent.com/cinnData/UMDataWeek-2023/main/Data/'\n",
        "df = pd.read_csv(path + 'deposit.csv', index_col=0)"
      ]
    },
    {
      "cell_type": "code",
      "source": [
        "y = df['deposit']\n",
        "X = df.drop(columns='deposit')"
      ],
      "metadata": {
        "id": "elqv2afMoUgy"
      },
      "id": "elqv2afMoUgy",
      "execution_count": null,
      "outputs": []
    },
    {
      "cell_type": "markdown",
      "source": [
        "### Q1. Random split"
      ],
      "metadata": {
        "id": "JTwXiPu9dprB"
      },
      "id": "JTwXiPu9dprB"
    },
    {
      "cell_type": "code",
      "source": [
        "from sklearn.model_selection import train_test_split\n",
        "X_train, X_test, y_train, y_test = train_test_split(X, y, test_size=0.5)"
      ],
      "metadata": {
        "id": "HXw20A-PdD-C"
      },
      "id": "HXw20A-PdD-C",
      "execution_count": null,
      "outputs": []
    },
    {
      "cell_type": "markdown",
      "source": [
        "### Q2a. Undersampling"
      ],
      "metadata": {
        "id": "jQVO0vOvowtZ"
      },
      "id": "jQVO0vOvowtZ"
    },
    {
      "cell_type": "code",
      "source": [
        "from imblearn.under_sampling import RandomUnderSampler\n",
        "rus = RandomUnderSampler()\n",
        "X_rus, y_rus = rus.fit_resample(X_train, y_train)"
      ],
      "metadata": {
        "id": "3z4MjJCpd-n3"
      },
      "id": "3z4MjJCpd-n3",
      "execution_count": null,
      "outputs": []
    },
    {
      "cell_type": "code",
      "source": [
        "X_train.shape"
      ],
      "metadata": {
        "id": "hC3t5u7qfaQ6"
      },
      "id": "hC3t5u7qfaQ6",
      "execution_count": null,
      "outputs": []
    },
    {
      "cell_type": "code",
      "source": [
        "X_rus.shape"
      ],
      "metadata": {
        "id": "nvHUuQS0pJAs"
      },
      "id": "nvHUuQS0pJAs",
      "execution_count": null,
      "outputs": []
    },
    {
      "cell_type": "code",
      "source": [
        "y_rus.mean()"
      ],
      "metadata": {
        "id": "Va0mUnY-pWfX"
      },
      "id": "Va0mUnY-pWfX",
      "execution_count": null,
      "outputs": []
    },
    {
      "cell_type": "markdown",
      "source": [
        "### Q2b. Model training"
      ],
      "metadata": {
        "id": "WRedQ-gwePaR"
      },
      "id": "WRedQ-gwePaR"
    },
    {
      "cell_type": "code",
      "source": [
        "from sklearn.linear_model import LogisticRegression\n",
        "clf1 = LogisticRegression(max_iter=2000)"
      ],
      "metadata": {
        "id": "pE7Pp8FbfrEK"
      },
      "id": "pE7Pp8FbfrEK",
      "execution_count": null,
      "outputs": []
    },
    {
      "cell_type": "code",
      "source": [
        "clf1.fit(X_rus, y_rus);"
      ],
      "metadata": {
        "id": "WOrsUEB5hoSl"
      },
      "id": "WOrsUEB5hoSl",
      "execution_count": null,
      "outputs": []
    },
    {
      "cell_type": "markdown",
      "source": [
        "### Q2c. Model testing"
      ],
      "metadata": {
        "id": "616FhIQiq4Ce"
      },
      "id": "616FhIQiq4Ce"
    },
    {
      "cell_type": "code",
      "source": [
        "y_pred = clf.predict(X_test)"
      ],
      "metadata": {
        "id": "XQT2KB2lrAKc"
      },
      "id": "XQT2KB2lrAKc",
      "execution_count": null,
      "outputs": []
    },
    {
      "cell_type": "code",
      "source": [
        "conf = pd.crosstab(y_test, y_pred).values\n",
        "conf"
      ],
      "metadata": {
        "id": "MkbdesTNrGuj"
      },
      "id": "MkbdesTNrGuj",
      "execution_count": null,
      "outputs": []
    },
    {
      "cell_type": "code",
      "source": [
        "acc = (y_test == y_pred).mean().round(3)\n",
        "prec = y_test[y_pred == 1].mean().round(3)\n",
        "rec = y_pred[y_test == 1].mean().round(3)\n",
        "acc, prec, rec"
      ],
      "metadata": {
        "id": "I4vPE6M1rGXV"
      },
      "id": "I4vPE6M1rGXV",
      "execution_count": null,
      "outputs": []
    },
    {
      "cell_type": "markdown",
      "source": [
        "### Q2d. Calling 20% of the customers"
      ],
      "metadata": {
        "id": "CXbl5n67rFwE"
      },
      "id": "CXbl5n67rFwE"
    },
    {
      "cell_type": "code",
      "source": [
        "y_score = clf.predict_proba(X_test)[:, 1]"
      ],
      "metadata": {
        "id": "5DKTlOzJnAc_"
      },
      "id": "5DKTlOzJnAc_",
      "execution_count": null,
      "outputs": []
    },
    {
      "cell_type": "code",
      "source": [
        "df_test = pd.DataFrame({'deposit': y_test, 'score': y_score}, index=X_test.index)\n",
        "df_test.sort_values('score', inplace=True, ascending=False)\n",
        "df_test"
      ],
      "metadata": {
        "id": "DVC4xaiMnUYn"
      },
      "id": "DVC4xaiMnUYn",
      "execution_count": null,
      "outputs": []
    },
    {
      "cell_type": "code",
      "source": [
        "N = int(len(y_test)/5)\n",
        "N"
      ],
      "metadata": {
        "id": "I_6JBmSGpFog"
      },
      "id": "I_6JBmSGpFog",
      "execution_count": null,
      "outputs": []
    },
    {
      "cell_type": "code",
      "source": [
        "df_test['deposit'].head(N).sum()"
      ],
      "metadata": {
        "id": "NSafHxH7YUYY"
      },
      "id": "NSafHxH7YUYY",
      "execution_count": null,
      "outputs": []
    },
    {
      "cell_type": "markdown",
      "source": [
        "### Q3a. Oversampling"
      ],
      "metadata": {
        "id": "7hncTgTijXIG"
      },
      "id": "7hncTgTijXIG"
    },
    {
      "cell_type": "code",
      "source": [
        "from imblearn.over_sampling import RandomOverSampler\n",
        "ros = RandomOverSampler()\n",
        "X_ros, y_ros = ros.fit_resample(X_train, y_train)"
      ],
      "metadata": {
        "id": "CveKEIOflDR2"
      },
      "id": "CveKEIOflDR2",
      "execution_count": null,
      "outputs": []
    },
    {
      "cell_type": "code",
      "source": [
        "X_ros.shape"
      ],
      "metadata": {
        "id": "hHueM4Ehqstx"
      },
      "id": "hHueM4Ehqstx",
      "execution_count": null,
      "outputs": []
    },
    {
      "cell_type": "code",
      "source": [
        "X_ros.duplicated().sum()"
      ],
      "metadata": {
        "id": "Jeo_JmRc0V4V"
      },
      "id": "Jeo_JmRc0V4V",
      "execution_count": null,
      "outputs": []
    },
    {
      "cell_type": "code",
      "source": [
        "y_ros.mean()"
      ],
      "metadata": {
        "id": "YhqU5fZ70d-4"
      },
      "id": "YhqU5fZ70d-4",
      "execution_count": null,
      "outputs": []
    },
    {
      "cell_type": "markdown",
      "source": [
        "### Q3b. Model training"
      ],
      "metadata": {
        "id": "g9klUb57W456"
      },
      "id": "g9klUb57W456"
    },
    {
      "cell_type": "code",
      "source": [
        "clf2 = LogisticRegression(max_iter=2000)\n",
        "clf2.fit(X_ros, y_ros);\n"
      ],
      "metadata": {
        "id": "M2TA1hI_t_gr"
      },
      "id": "M2TA1hI_t_gr",
      "execution_count": null,
      "outputs": []
    },
    {
      "cell_type": "markdown",
      "source": [
        "### Q3c. Model testing"
      ],
      "metadata": {
        "id": "en6pWQ79u8Lb"
      },
      "id": "en6pWQ79u8Lb"
    },
    {
      "cell_type": "code",
      "source": [
        "y_pred = clf2.predict(X_test)"
      ],
      "metadata": {
        "id": "OWU0EJFXwuGs"
      },
      "id": "OWU0EJFXwuGs",
      "execution_count": null,
      "outputs": []
    },
    {
      "cell_type": "code",
      "source": [
        "conf = pd.crosstab(y_test, y_pred).values\n",
        "conf"
      ],
      "metadata": {
        "id": "hk_6ycxzxI0d"
      },
      "id": "hk_6ycxzxI0d",
      "execution_count": null,
      "outputs": []
    },
    {
      "cell_type": "code",
      "source": [
        "acc = (y_test == y_pred).mean().round(3)\n",
        "prec = y_test[y_pred == 1].mean().round(3)\n",
        "rec = y_pred[y_test == 1].mean().round(3)\n",
        "acc, prec, rec"
      ],
      "metadata": {
        "id": "-z44h6b226Vi"
      },
      "id": "-z44h6b226Vi",
      "execution_count": null,
      "outputs": []
    },
    {
      "cell_type": "markdown",
      "source": [
        "### Q3d. Calling 20% of the customers"
      ],
      "metadata": {
        "id": "BRJcE2j_LpBc"
      },
      "id": "BRJcE2j_LpBc"
    },
    {
      "cell_type": "code",
      "source": [
        "y_score = clf2.predict_proba(X_test)[:, 1]"
      ],
      "metadata": {
        "id": "0E55ZpPxN7q5"
      },
      "id": "0E55ZpPxN7q5",
      "execution_count": null,
      "outputs": []
    },
    {
      "cell_type": "code",
      "source": [
        "df_test = pd.DataFrame({'deposit': y_test, 'score': y_score}, index=X_test.index)\n",
        "df_test.sort_values('score', inplace=True, ascending=False)\n",
        "df_test"
      ],
      "metadata": {
        "id": "d0CP7Ez_TDgM"
      },
      "id": "d0CP7Ez_TDgM",
      "execution_count": null,
      "outputs": []
    },
    {
      "cell_type": "code",
      "source": [
        "df_test['deposit'].head(N).sum()"
      ],
      "metadata": {
        "id": "fB3LFf1tTVzQ"
      },
      "id": "fB3LFf1tTVzQ",
      "execution_count": null,
      "outputs": []
    }
  ],
  "metadata": {
    "kernelspec": {
      "display_name": "Python 3 (ipykernel)",
      "language": "python",
      "name": "python3"
    },
    "language_info": {
      "codemirror_mode": {
        "name": "ipython",
        "version": 3
      },
      "file_extension": ".py",
      "mimetype": "text/x-python",
      "name": "python",
      "nbconvert_exporter": "python",
      "pygments_lexer": "ipython3",
      "version": "3.9.12"
    },
    "colab": {
      "provenance": [],
      "include_colab_link": true
    }
  },
  "nbformat": 4,
  "nbformat_minor": 5
}